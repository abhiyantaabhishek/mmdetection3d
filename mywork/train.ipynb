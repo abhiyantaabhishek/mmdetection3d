{
 "cells": [
  {
   "cell_type": "code",
   "execution_count": 1,
   "metadata": {},
   "outputs": [
    {
     "name": "stderr",
     "output_type": "stream",
     "text": [
      "/raid/cs21resch15003/anaconda3/envs/abhi/lib/python3.7/site-packages/mmengine/model/utils.py:137: UserWarning: Cannot import torch.fx, `merge_dict` is a simple function to merge multiple dicts\n",
      "  warnings.warn('Cannot import torch.fx, `merge_dict` is a simple function '\n"
     ]
    }
   ],
   "source": [
    "import argparse\n",
    "import logging\n",
    "import os\n",
    "import os.path as osp\n",
    "\n",
    "from mmengine.config import Config, DictAction\n",
    "from mmengine.logging import print_log\n",
    "from mmengine.registry import RUNNERS\n",
    "from mmengine.runner import Runner\n",
    "\n",
    "from mmdet3d.utils import register_all_modules, replace_ceph_backend"
   ]
  },
  {
   "cell_type": "code",
   "execution_count": 2,
   "metadata": {},
   "outputs": [],
   "source": [
    "def parse_args():\n",
    "    parser = argparse.ArgumentParser(description='Train a 3D detector')\n",
    "    parser.add_argument('--config',default=\"/raid/cs21resch15003/cs22mds15010/mmdet/mmdetection3d/mywork/config/mvxnet_fpn_dv_second_secfpn_8xb2-80e_kitti-3d-3class.py\", help='train config file path')\n",
    "    parser.add_argument('--work-dir',default=\"/raid/cs21resch15003/cs22mds15010/mmdet/mmdetection3d/mywork/work-dir/\", help='the dir to save logs and models')\n",
    "    parser.add_argument(\n",
    "        '--amp',\n",
    "        action='store_true',\n",
    "        default=False,\n",
    "        help='enable automatic-mixed-precision training')\n",
    "    parser.add_argument(\n",
    "        '--auto-scale-lr',\n",
    "        action='store_true',\n",
    "        help='enable automatically scaling LR.')\n",
    "    parser.add_argument(\n",
    "        '--resume',\n",
    "        action='store_true',\n",
    "        help='resume from the latest checkpoint in the work_dir automatically')\n",
    "    parser.add_argument(\n",
    "        '--ceph', action='store_true', help='Use ceph as data storage backend')\n",
    "    parser.add_argument(\n",
    "        '--cfg-options',\n",
    "        nargs='+',\n",
    "        action=DictAction,\n",
    "        help='override some settings in the used config, the key-value pair '\n",
    "        'in xxx=yyy format will be merged into config file. If the value to '\n",
    "        'be overwritten is a list, it should be like key=\"[a,b]\" or key=a,b '\n",
    "        'It also allows nested list/tuple values, e.g. key=\"[(a,b),(c,d)]\" '\n",
    "        'Note that the quotation marks are necessary and that no white space '\n",
    "        'is allowed.')\n",
    "    parser.add_argument(\n",
    "        '--launcher',\n",
    "        choices=['none', 'pytorch', 'slurm', 'mpi'],\n",
    "        default='none',\n",
    "        help='job launcher')\n",
    "    parser.add_argument('--local_rank', type=int, default=0)\n",
    "    args = parser.parse_args([])\n",
    "    if 'LOCAL_RANK' not in os.environ:\n",
    "        os.environ['LOCAL_RANK'] = str(args.local_rank)\n",
    "    return args"
   ]
  },
  {
   "cell_type": "code",
   "execution_count": 3,
   "metadata": {},
   "outputs": [
    {
     "name": "stdout",
     "output_type": "stream",
     "text": [
      "Jupyter environment detected. Enabling Open3D WebVisualizer.\n",
      "[Open3D INFO] WebRTC GUI backend enabled.\n",
      "[Open3D INFO] WebRTCWindowSystem: HTTP handshake server disabled.\n"
     ]
    }
   ],
   "source": [
    "args = parse_args()\n",
    "register_all_modules(init_default_scope=False)"
   ]
  },
  {
   "cell_type": "code",
   "execution_count": 4,
   "metadata": {},
   "outputs": [],
   "source": [
    "cfg = Config.fromfile(args.config)"
   ]
  }
 ],
 "metadata": {
  "kernelspec": {
   "display_name": "abhi",
   "language": "python",
   "name": "python3"
  },
  "language_info": {
   "codemirror_mode": {
    "name": "ipython",
    "version": 3
   },
   "file_extension": ".py",
   "mimetype": "text/x-python",
   "name": "python",
   "nbconvert_exporter": "python",
   "pygments_lexer": "ipython3",
   "version": "3.7.16"
  },
  "orig_nbformat": 4
 },
 "nbformat": 4,
 "nbformat_minor": 2
}
