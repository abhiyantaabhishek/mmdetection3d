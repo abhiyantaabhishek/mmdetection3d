{
 "cells": [
  {
   "cell_type": "code",
   "execution_count": 1,
   "metadata": {},
   "outputs": [],
   "source": [
    "import torch"
   ]
  },
  {
   "cell_type": "code",
   "execution_count": 2,
   "metadata": {},
   "outputs": [
    {
     "name": "stdout",
     "output_type": "stream",
     "text": [
      "Using device: cuda\n",
      "\n",
      "Tesla V100-SXM2-32GB\n",
      "Memory Usage:\n",
      "Allocated: 0.0 GB\n",
      "Cached:    0.0 GB\n"
     ]
    }
   ],
   "source": [
    "device = torch.device('cuda' if torch.cuda.is_available() else 'cpu')\n",
    "print('Using device:', device)\n",
    "print()\n",
    "\n",
    "#Additional Info when using cuda\n",
    "if device.type == 'cuda':\n",
    "    print(torch.cuda.get_device_name(0))\n",
    "    print('Memory Usage:')\n",
    "    print('Allocated:', round(torch.cuda.memory_allocated(0)/1024**3,1), 'GB')\n",
    "    print('Cached:   ', round(torch.cuda.memory_reserved(0)/1024**3,1), 'GB')"
   ]
  },
  {
   "cell_type": "code",
   "execution_count": 3,
   "metadata": {},
   "outputs": [
    {
     "data": {
      "text/plain": [
       "device(type='cuda')"
      ]
     },
     "execution_count": 3,
     "metadata": {},
     "output_type": "execute_result"
    }
   ],
   "source": [
    "device"
   ]
  },
  {
   "cell_type": "code",
   "execution_count": 4,
   "metadata": {},
   "outputs": [
    {
     "data": {
      "text/plain": [
       "tensor([0.1145, 0.2791, 0.7546, 0.5658, 0.5391, 0.6133, 0.7161, 0.1131, 0.4896,\n",
       "        0.0451], device='cuda:0')"
      ]
     },
     "execution_count": 4,
     "metadata": {},
     "output_type": "execute_result"
    }
   ],
   "source": [
    "torch.rand(10).to(device)"
   ]
  },
  {
   "cell_type": "code",
   "execution_count": 2,
   "metadata": {},
   "outputs": [
    {
     "name": "stdout",
     "output_type": "stream",
     "text": [
      "tensor([[-1.6038, -1.5564]])\n",
      "tensor([[-0.9530, -0.0855]], device='cuda:0')\n",
      "tensor([[-1.6038, -1.5564]])\n",
      "False\n",
      "tensor([[-1.6038, -1.5564]], device='cuda:0')\n",
      "True\n",
      "True\n"
     ]
    }
   ],
   "source": [
    "import torch\n",
    "import torch.nn as nn\n",
    "dev = torch.device(\"cuda\") if torch.cuda.is_available() else torch.device(\"cpu\")\n",
    "t1 = torch.randn(1,2)\n",
    "t2 = torch.randn(1,2).to(dev)\n",
    "print(t1)  # tensor([[-0.2678,  1.9252]])\n",
    "print(t2)  # tensor([[ 0.5117, -3.6247]], device='cuda:0')\n",
    "t1.to(dev)\n",
    "print(t1)  # tensor([[-0.2678,  1.9252]])\n",
    "print(t1.is_cuda) # False\n",
    "t1 = t1.to(dev)\n",
    "print(t1)  # tensor([[-0.2678,  1.9252]], device='cuda:0')\n",
    "print(t1.is_cuda) # True\n",
    "\n",
    "class M(nn.Module):\n",
    "    def __init__(self):        \n",
    "        super().__init__()        \n",
    "        self.l1 = nn.Linear(1,2)\n",
    "\n",
    "    def forward(self, x):                      \n",
    "        x = self.l1(x)\n",
    "        return x\n",
    "model = M()   # not on cuda\n",
    "model.to(dev) # is on cuda (all parameters)\n",
    "print(next(model.parameters()).is_cuda) # True"
   ]
  }
 ],
 "metadata": {
  "kernelspec": {
   "display_name": "abhi",
   "language": "python",
   "name": "python3"
  },
  "language_info": {
   "codemirror_mode": {
    "name": "ipython",
    "version": 3
   },
   "file_extension": ".py",
   "mimetype": "text/x-python",
   "name": "python",
   "nbconvert_exporter": "python",
   "pygments_lexer": "ipython3",
   "version": "3.7.16"
  },
  "orig_nbformat": 4
 },
 "nbformat": 4,
 "nbformat_minor": 2
}
